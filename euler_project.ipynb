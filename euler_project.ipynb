{
 "cells": [
  {
   "cell_type": "markdown",
   "id": "6bd757c5-c2e2-430c-bc3e-46c1796bf7e9",
   "metadata": {},
   "source": [
    "## Math is fun ##\n",
    "\n",
    "**Question 1 - [Bouncy numbers](https://projecteuler.net/problem=112) (24427 completion)**"
   ]
  },
  {
   "cell_type": "code",
   "execution_count": 1,
   "id": "dd1f1b37-ee90-4bd9-b51a-a520e63c924d",
   "metadata": {},
   "outputs": [],
   "source": [
    "def check_bouncy(num):\n",
    "    \"\"\"\n",
    "    Checks if a given number is a bouncy number\n",
    "    input - num -> int\n",
    "    output - bool \n",
    "    \"\"\"\n",
    "    # convert input to list of characters\n",
    "    num_list = list(str(num))\n",
    "    # sort in ascending and descending orders\n",
    "    asc_num_list = sorted(num_list)\n",
    "    desc_num_list = sorted(num_list, reverse = True)\n",
    "    # check if input match sorted versions\n",
    "    # return False if matched, True if not\n",
    "    if num_list != asc_num_list and num_list != desc_num_list:\n",
    "        return True\n",
    "    else:\n",
    "        return False\n",
    "\n",
    "def get_proportion(percentage):\n",
    "    \"\"\"\n",
    "    Calculates the least number for which the proportion of bouncy \n",
    "    numbers is exactly specified by the input\n",
    "    input - percentage -> int\n",
    "    output - number -> int\n",
    "    \"\"\"\n",
    "    # define variables for tracking count of bouncy and \n",
    "    # non-bouncy numbers\n",
    "    bouncy_count = 0\n",
    "    non_bouncy_count = 0\n",
    "    number = 1\n",
    "    # loop through all numbers\n",
    "    # check if a given number is bouncy and update count accordingly\n",
    "    while True:\n",
    "        if check_bouncy(number):\n",
    "            bouncy_count += 1\n",
    "        else:\n",
    "            non_bouncy_count +=1\n",
    "        # calculate proportion of bouncy numbers\n",
    "        porportion = bouncy_count / (bouncy_count + non_bouncy_count)\n",
    "        # check if proportion matches specified percentage\n",
    "        # exit the loop if matched, check next number if not\n",
    "        if porportion == percentage/100:\n",
    "            break\n",
    "        else:\n",
    "            number += 1\n",
    "            \n",
    "    return number"
   ]
  },
  {
   "cell_type": "code",
   "execution_count": 2,
   "id": "938a0a85-217d-47b1-adcc-26d0b2ee0bd3",
   "metadata": {},
   "outputs": [
    {
     "data": {
      "text/plain": [
       "1587000"
      ]
     },
     "execution_count": 2,
     "metadata": {},
     "output_type": "execute_result"
    }
   ],
   "source": [
    "get_proportion(99)"
   ]
  },
  {
   "cell_type": "markdown",
   "id": "b2cc82e5-efc2-4e23-8faf-159cd3a6ec15",
   "metadata": {},
   "source": [
    "**Question 2 - [Double-base palindromes](https://projecteuler.net/problem=36) (89568 Completion)**"
   ]
  },
  {
   "cell_type": "code",
   "execution_count": 3,
   "id": "f5439c4e-2a3e-4394-94a1-7648ef54be83",
   "metadata": {},
   "outputs": [],
   "source": [
    "def check_base10_palindrome(num):\n",
    "    \"\"\"\n",
    "    Get a list of all base10 numbers that are palindromes\n",
    "    input - num -> int\n",
    "    output - palindromes -> list\n",
    "    \"\"\"\n",
    "    # create a list of numbers\n",
    "    numbers = list(range(num))\n",
    "    # list comprehesion for checking if a str and its inverse are equal\n",
    "    palindromes = [num for num in numbers if str(num) == str(num)[::-1]]\n",
    "    \n",
    "    return palindromes\n",
    "\n",
    "def double_base():\n",
    "    \"\"\"\n",
    "    Get the sum of all numbers, less than one million, \n",
    "    which are palindromic in base 10 and base 2\n",
    "    output - sum_palindromes -> int\n",
    "    \"\"\"\n",
    "    # get all base10 palindromes below 1000000\n",
    "    base10_palindromes = check_base10_palindrome(1000000)\n",
    "    # initialize sum\n",
    "    sum_palindromes = 0\n",
    "    # get binary form of each base10 palindrome and \n",
    "    # check if it's a palindrome\n",
    "    for base10 in base10_palindromes:\n",
    "        binary = bin(base10)[2:]\n",
    "        # update sum if yes\n",
    "        if binary == binary[::-1]:\n",
    "            sum_palindromes += base10\n",
    "            \n",
    "    return sum_palindromes"
   ]
  },
  {
   "cell_type": "code",
   "execution_count": 4,
   "id": "0af58104-c256-464a-bdf1-566cd67fd839",
   "metadata": {},
   "outputs": [
    {
     "data": {
      "text/plain": [
       "872187"
      ]
     },
     "execution_count": 4,
     "metadata": {},
     "output_type": "execute_result"
    }
   ],
   "source": [
    "double_base()"
   ]
  },
  {
   "cell_type": "markdown",
   "id": "f7dcea4d-dd42-4a76-9180-7d014a03e5b8",
   "metadata": {},
   "source": [
    "**Question 3 - [Largest palindrome product](https://projecteuler.net/problem=4) (489898 Completion)**"
   ]
  },
  {
   "cell_type": "code",
   "execution_count": 5,
   "id": "e2816efb-fa2a-4c83-8eb8-5b6de9b1a466",
   "metadata": {},
   "outputs": [],
   "source": [
    "def get_palindrome(num_list):\n",
    "    \"\"\"\n",
    "    Get a list a palindromes made from a list of numbers\n",
    "    in descending order \n",
    "    input - num_list -> list\n",
    "    output - palindrome -> list\n",
    "    \"\"\"\n",
    "    # list comprehesion for checking if a str and its inverse are equal\n",
    "    palindrome = [num for num in num_list if str(num) == str(num)[::-1]]\n",
    "\n",
    "    return palindrome\n",
    "\n",
    "def largest_palindrome():\n",
    "    \"\"\"\n",
    "    Get the largest palindrome made from the product of \n",
    "    two 3-digit numbers\n",
    "    output - largest -> int\n",
    "    \"\"\"\n",
    "    # get a list of all products\n",
    "    number_list = list(range(999**2, 900**2, -1))\n",
    "    # get a list of palindrome\n",
    "    palindrome_list = get_palindrome(number_list)\n",
    "    # place holder for largest palinidrome\n",
    "    largest = 0\n",
    "    # loop through the palindromes check if it's\n",
    "    # divisible by a 3-digit integer\n",
    "    for palindrome in palindrome_list:   \n",
    "        for divisor in range(999, 900, -1):\n",
    "            divident = palindrome/divisor\n",
    "            # if divisible, fill largest placeholder\n",
    "            if divident.is_integer() and len(str(int(divident))) == 3:\n",
    "                largest = palindrome\n",
    "                # print divisor and exit loop\n",
    "                print((divisor, int(divident)))\n",
    "                break\n",
    "        # break loop if largest has a value\n",
    "        if largest:\n",
    "            break\n",
    "    return largest"
   ]
  },
  {
   "cell_type": "code",
   "execution_count": 6,
   "id": "9cd3225f-f808-4178-bb9a-a66bf48251ca",
   "metadata": {},
   "outputs": [
    {
     "name": "stdout",
     "output_type": "stream",
     "text": [
      "(993, 913)\n"
     ]
    },
    {
     "data": {
      "text/plain": [
       "906609"
      ]
     },
     "execution_count": 6,
     "metadata": {},
     "output_type": "execute_result"
    }
   ],
   "source": [
    "largest_palindrome()"
   ]
  },
  {
   "cell_type": "code",
   "execution_count": null,
   "id": "2a23c98e-e0d6-475a-b8e8-66d89636cd68",
   "metadata": {},
   "outputs": [],
   "source": []
  }
 ],
 "metadata": {
  "kernelspec": {
   "display_name": "Python 3 (ipykernel)",
   "language": "python",
   "name": "python3"
  },
  "language_info": {
   "codemirror_mode": {
    "name": "ipython",
    "version": 3
   },
   "file_extension": ".py",
   "mimetype": "text/x-python",
   "name": "python",
   "nbconvert_exporter": "python",
   "pygments_lexer": "ipython3",
   "version": "3.9.6"
  }
 },
 "nbformat": 4,
 "nbformat_minor": 5
}
